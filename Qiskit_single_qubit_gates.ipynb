{
  "cells": [
    {
      "cell_type": "code",
      "execution_count": 1,
      "metadata": {
        "colab": {
          "base_uri": "https://localhost:8080/"
        },
        "id": "Y6ILoOlyYy4E",
        "outputId": "c28e19e4-6c7e-4407-a3e7-04d6fec6f987"
      },
      "outputs": [
        {
          "name": "stdout",
          "output_type": "stream",
          "text": [
            "Requirement already satisfied: qiskit in c:\\users\\pc\\miniconda3\\lib\\site-packages (2.2.1)\n",
            "Requirement already satisfied: qiskit-aer in c:\\users\\pc\\miniconda3\\lib\\site-packages (0.17.2)\n",
            "Requirement already satisfied: rustworkx>=0.15.0 in c:\\users\\pc\\miniconda3\\lib\\site-packages (from qiskit) (0.17.1)\n",
            "Requirement already satisfied: numpy<3,>=1.17 in c:\\users\\pc\\miniconda3\\lib\\site-packages (from qiskit) (2.3.2)\n",
            "Requirement already satisfied: scipy>=1.5 in c:\\users\\pc\\miniconda3\\lib\\site-packages (from qiskit) (1.16.1)\n",
            "Requirement already satisfied: dill>=0.3 in c:\\users\\pc\\miniconda3\\lib\\site-packages (from qiskit) (0.3.8)\n",
            "Requirement already satisfied: stevedore>=3.0.0 in c:\\users\\pc\\miniconda3\\lib\\site-packages (from qiskit) (5.5.0)\n",
            "Requirement already satisfied: typing-extensions in c:\\users\\pc\\miniconda3\\lib\\site-packages (from qiskit) (4.12.2)\n",
            "Requirement already satisfied: psutil>=5 in c:\\users\\pc\\miniconda3\\lib\\site-packages (from qiskit-aer) (7.0.0)\n",
            "Requirement already satisfied: python-dateutil>=2.8.0 in c:\\users\\pc\\miniconda3\\lib\\site-packages (from qiskit-aer) (2.9.0.post0)\n",
            "Requirement already satisfied: six>=1.5 in c:\\users\\pc\\miniconda3\\lib\\site-packages (from python-dateutil>=2.8.0->qiskit-aer) (1.17.0)\n",
            "Note: you may need to restart the kernel to use updated packages.\n"
          ]
        }
      ],
      "source": [
        "%pip install qiskit qiskit-aer"
      ]
    },
    {
      "cell_type": "code",
      "execution_count": 2,
      "metadata": {
        "colab": {
          "base_uri": "https://localhost:8080/"
        },
        "id": "rhXBezBSYd6k",
        "outputId": "5e457631-b108-4a05-c2ab-8634f8b6498c"
      },
      "outputs": [
        {
          "name": "stdout",
          "output_type": "stream",
          "text": [
            "Counts H then X: {'1': 989, '0': 1059}\n",
            "Counts X then H: {'0': 1068, '1': 980}\n",
            "Statevector H then X: Statevector([0.70710678+0.j, 0.70710678+0.j],\n",
            "            dims=(2,))\n",
            "Statevector X then H: Statevector([ 0.70710678+0.j, -0.70710678+0.j],\n",
            "            dims=(2,))\n"
          ]
        }
      ],
      "source": [
        "\n",
        "from qiskit import QuantumCircuit, transpile\n",
        "from qiskit_aer import AerSimulator\n",
        "from qiskit.quantum_info import Statevector\n",
        "import numpy as np\n",
        "\n",
        "sim = AerSimulator()\n",
        "\n",
        "qc_h_then_x = QuantumCircuit(1,1)\n",
        "qc_h_then_x.h(0)\n",
        "qc_h_then_x.x(0)\n",
        "qc_h_then_x.measure(0,0)\n",
        "\n",
        "qc_x_then_h = QuantumCircuit(1,1)\n",
        "qc_x_then_h.x(0)\n",
        "qc_x_then_h.h(0)\n",
        "qc_x_then_h.measure(0,0)\n",
        "\n",
        "def get_counts(qc, shots=2048):\n",
        "    qc_t = transpile(qc, sim)\n",
        "    job = sim.run(qc_t, shots=shots)\n",
        "    result = job.result()\n",
        "    return result.get_counts()\n",
        "\n",
        "print(\"Counts H then X:\", get_counts(qc_h_then_x))\n",
        "print(\"Counts X then H:\", get_counts(qc_x_then_h))\n",
        "\n",
        "qc_sv_h_then_x = QuantumCircuit(1)\n",
        "qc_sv_h_then_x.h(0)\n",
        "qc_sv_h_then_x.x(0)\n",
        "sv_h_then_x = Statevector.from_instruction(qc_sv_h_then_x)\n",
        "\n",
        "qc_sv_x_then_h = QuantumCircuit(1)\n",
        "qc_sv_x_then_h.x(0)\n",
        "qc_sv_x_then_h.h(0)\n",
        "sv_x_then_h = Statevector.from_instruction(qc_sv_x_then_h)\n",
        "\n",
        "print(\"Statevector H then X:\", sv_h_then_x)\n",
        "print(\"Statevector X then H:\", sv_x_then_h)"
      ]
    },
    {
      "cell_type": "markdown",
      "metadata": {
        "id": "136Y85r8fro1"
      },
      "source": [
        "quantum gates generally do not commute — applying A then B is not the same as B then A. Here the non-commutation shows up as a different global/relative phase in the statevector; but because measurement probabilities in the Z-basis depend on amplitude magnitudes squared, that phase difference may not affect those probabilities."
      ]
    },
    {
      "cell_type": "code",
      "execution_count": 3,
      "metadata": {
        "colab": {
          "base_uri": "https://localhost:8080/"
        },
        "id": "yLWCXEkWftot",
        "outputId": "d84e658d-7d31-4d85-e6bb-1381b1098632"
      },
      "outputs": [
        {
          "name": "stdout",
          "output_type": "stream",
          "text": [
            "theta = 0.785398  counts = {'0': 1023, '1': 1025}\n",
            "theta = 1.570796  counts = {'0': 982, '1': 1066}\n",
            "theta = 3.141593  counts = {'0': 1040, '1': 1008}\n"
          ]
        }
      ],
      "source": [
        "from qiskit import QuantumCircuit, transpile\n",
        "from qiskit_aer import AerSimulator\n",
        "import numpy as np\n",
        "\n",
        "sim = AerSimulator()\n",
        "\n",
        "thetas = [np.pi/4, np.pi/2, np.pi]\n",
        "for theta in thetas:\n",
        "    qc = QuantumCircuit(1,1)\n",
        "    qc.h(0)\n",
        "    qc.rz(theta, 0)\n",
        "    qc.measure(0,0)\n",
        "    counts = sim.run(transpile(qc, sim), shots=2048).result().get_counts()\n",
        "    print(f\"theta = {theta:.6f}  counts = {counts}\")\n"
      ]
    },
    {
      "cell_type": "markdown",
      "metadata": {
        "id": "ol9xPkBjf93f"
      },
      "source": [
        "For all three angles (π/4, π/2, and π), the measurement counts are almost the same — about 50% |0⟩ and 50% |1⟩.\n",
        "\n",
        "This happens because the RZ(θ) gate only changes the phase of the qubit, not the probability of getting 0 or 1.\n",
        "So, even when θ changes, the measurement results stay nearly equal."
      ]
    },
    {
      "cell_type": "code",
      "execution_count": 4,
      "metadata": {
        "colab": {
          "base_uri": "https://localhost:8080/"
        },
        "id": "8GnLBUYbgT9q",
        "outputId": "6798de8d-a6f0-4b08-8cd5-cdb365b7cd79"
      },
      "outputs": [
        {
          "name": "stdout",
          "output_type": "stream",
          "text": [
            "H then RZ: {'0': 1004, '1': 1044}\n",
            "RZ only: {'0': 2048}\n"
          ]
        }
      ],
      "source": [
        "from qiskit import QuantumCircuit, transpile\n",
        "from qiskit_aer import AerSimulator\n",
        "import numpy as np\n",
        "\n",
        "sim = AerSimulator()\n",
        "theta = np.pi/2\n",
        "\n",
        "qc_with_h = QuantumCircuit(1,1)\n",
        "qc_with_h.h(0)\n",
        "qc_with_h.rz(theta, 0)\n",
        "qc_with_h.measure(0,0)\n",
        "\n",
        "qc_no_h = QuantumCircuit(1,1)\n",
        "qc_no_h.rz(theta, 0)\n",
        "qc_no_h.measure(0,0)\n",
        "\n",
        "counts_with_h = sim.run(transpile(qc_with_h, sim), shots=2048).result().get_counts()\n",
        "counts_no_h = sim.run(transpile(qc_no_h, sim), shots=2048).result().get_counts()\n",
        "\n",
        "print(\"H then RZ:\", counts_with_h)\n",
        "print(\"RZ only:\", counts_no_h)\n"
      ]
    }
  ],
  "metadata": {
    "colab": {
      "name": "Welcome To Colab",
      "provenance": [],
      "toc_visible": true
    },
    "kernelspec": {
      "display_name": "base",
      "language": "python",
      "name": "python3"
    },
    "language_info": {
      "codemirror_mode": {
        "name": "ipython",
        "version": 3
      },
      "file_extension": ".py",
      "mimetype": "text/x-python",
      "name": "python",
      "nbconvert_exporter": "python",
      "pygments_lexer": "ipython3",
      "version": "3.13.2"
    }
  },
  "nbformat": 4,
  "nbformat_minor": 0
}
